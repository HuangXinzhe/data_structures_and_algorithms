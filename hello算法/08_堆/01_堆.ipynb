{
 "cells": [
  {
   "cell_type": "markdown",
   "metadata": {},
   "source": [
    "# 堆\n",
    "满足特定条件的完全二叉树（完全二叉树是指除了最后一层，其他层都是满的，最后一层的节点都靠左排列）\n",
    "- 大顶堆：每个节点的值都大于或等于其左右孩子节点的值\n",
    "- 小顶堆：每个节点的值都小于或等于其左右孩子节点的值\n",
    "\n",
    "堆作为完全二叉树的一个特例，具有以下特性。\n",
    "- 最底层节点靠左填充，其他层的节点都被填满。\n",
    "- 将二叉树的根节点称为“堆顶”，将底层最靠右的节点称为“堆底”。\n",
    "- 对于大顶堆（小顶堆），堆顶元素（根节点）的值是最大（最小）的。"
   ]
  },
  {
   "cell_type": "code",
   "execution_count": null,
   "metadata": {},
   "outputs": [],
   "source": []
  }
 ],
 "metadata": {
  "language_info": {
   "name": "python"
  }
 },
 "nbformat": 4,
 "nbformat_minor": 2
}
