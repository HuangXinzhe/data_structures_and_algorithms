{
 "cells": [
  {
   "cell_type": "markdown",
   "metadata": {},
   "source": [
    "## 迭代\n",
    "「迭代 iteration」是一种重复执行某个任务的控制结构。在迭代中，程序会在满足一定的条件下重复执行某段代码，直到这个条件不再满足。"
   ]
  },
  {
   "cell_type": "markdown",
   "metadata": {},
   "source": [
    "## 递归\n",
    "「递归 recursion」是一种算法策略，通过函数调用自身来解决问题。它主要包含两个阶段。\n",
    "\n",
    "1. 递：程序不断深入地调用自身，通常传入更小或更简化的参数，直到达到“终止条件”。\n",
    "2. 归：触发“终止条件”后，程序从最深层的递归函数开始逐层返回，汇聚每一层的结果。\n",
    "  \n",
    "而从实现的角度看，递归代码主要包含三个要素。\n",
    "\n",
    "1. 终止条件：用于决定什么时候由“递”转“归”。\n",
    "2. 递归调用：对应“递”，函数调用自身，通常输入更小或更简化的参数。\n",
    "3. 返回结果：对应“归”，将当前递归层级的结果返回至上一层。"
   ]
  },
  {
   "cell_type": "code",
   "execution_count": null,
   "metadata": {},
   "outputs": [],
   "source": [
    "def recur(n: int) -> int:\n",
    "    \"\"\"递归\"\"\"\n",
    "    # 终止条件\n",
    "    if n == 1:\n",
    "        return 1\n",
    "    # 递：递归调用\n",
    "    res = recur(n - 1)\n",
    "    # 归：返回结果\n",
    "    return n + res\n"
   ]
  },
  {
   "cell_type": "markdown",
   "metadata": {},
   "source": [
    "递归函数每次调用自身时，系统都会为新开启的函数分配内存，以存储局部变量、调用地址和其他信息等。这将导致两方面的结果。\n",
    "\n",
    "- 函数的上下文数据都存储在称为“栈帧空间”的内存区域中，直至函数返回后才会被释放。因此，递归通常比迭代更加耗费内存空间。\n",
    "- 递归调用函数会产生额外的开销。因此递归通常比循环的时间效率更低。"
   ]
  },
  {
   "cell_type": "markdown",
   "metadata": {},
   "source": [
    "### 尾递归\n",
    "有趣的是，如果函数在返回前的最后一步才进行递归调用，则该函数可以被编译器或解释器优化，使其在空间效率上与迭代相当。这种情况被称为「尾递归 tail recursion」。\n",
    "\n",
    "- 普通递归：当函数返回到上一层级的函数后，需要继续执行代码，因此系统需要保存上一层调用的上下文。\n",
    "- 尾递归：递归调用是函数返回前的最后一个操作，这意味着函数返回到上一层级后，无需继续执行其他操作，因此系统无需保存上一层函数的上下文。\n"
   ]
  },
  {
   "cell_type": "code",
   "execution_count": null,
   "metadata": {},
   "outputs": [],
   "source": [
    "def tail_recur(n, res):\n",
    "    \"\"\"尾递归\"\"\"\n",
    "    # 终止条件\n",
    "    if n == 0:\n",
    "        return res\n",
    "    # 尾递归调用\n",
    "    return tail_recur(n - 1, res + n)\n"
   ]
  },
  {
   "cell_type": "markdown",
   "metadata": {},
   "source": [
    "对比普通递归和尾递归，求和操作的执行点是不同的。\n",
    "\n",
    "- 普通递归：求和操作是在“归”的过程中执行的，每层返回后都要再执行一次求和操作。\n",
    "- 尾递归：求和操作是在“递”的过程中执行的，“归”的过程只需层层返回。"
   ]
  },
  {
   "cell_type": "markdown",
   "metadata": {},
   "source": [
    "### 斐波那契数列"
   ]
  },
  {
   "cell_type": "code",
   "execution_count": null,
   "metadata": {},
   "outputs": [],
   "source": [
    "# 普通递归\n",
    "def fib(n: int) -> int:\n",
    "    \"\"\"斐波那契数列：递归\"\"\"\n",
    "    # 终止条件 f(1) = 0, f(2) = 1\n",
    "    if n == 1 or n == 2:\n",
    "        return n - 1\n",
    "    # 递归调用 f(n) = f(n-1) + f(n-2)\n",
    "    res = fib(n - 1) + fib(n - 2)\n",
    "    # 返回结果 f(n)\n",
    "    return res\n",
    "\n",
    "# 尾递归\n",
    "def fib(n: int) -> int:\n",
    "    \"\"\"斐波那契数列：递归\"\"\"\n",
    "    # 终止条件 f(1) = 0, f(2) = 1\n",
    "    if n == 1 or n == 2:\n",
    "        return n - 1\n",
    "    return fib(n - 1) + fib(n - 2)\n",
    "\n"
   ]
  },
  {
   "cell_type": "code",
   "execution_count": null,
   "metadata": {},
   "outputs": [],
   "source": [
    "def for_loop_recur(n: int) -> int:\n",
    "    \"\"\"使用迭代模拟递归\"\"\"\n",
    "    # 使用一个显式的栈来模拟系统调用栈\n",
    "    stack = []\n",
    "    res = 0\n",
    "    # 递：递归调用\n",
    "    for i in range(n, 0, -1):\n",
    "        # 通过“入栈操作”模拟“递”\n",
    "        stack.append(i)\n",
    "    # 归：返回结果\n",
    "    while stack:\n",
    "        # 通过“出栈操作”模拟“归”\n",
    "        res += stack.pop()\n",
    "    # res = 1+2+3+...+n\n",
    "    return res\n"
   ]
  }
 ],
 "metadata": {
  "kernelspec": {
   "display_name": "common8",
   "language": "python",
   "name": "python3"
  },
  "language_info": {
   "name": "python",
   "version": "3.8.16"
  }
 },
 "nbformat": 4,
 "nbformat_minor": 2
}
