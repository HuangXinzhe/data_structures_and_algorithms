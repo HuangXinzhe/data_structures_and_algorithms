{
 "cells": [
  {
   "cell_type": "markdown",
   "metadata": {},
   "source": [
    "# 归并排序（merge sort）\n",
    "一种基于分治策略的排序算法，包含“划分”和“合并”阶段。\n",
    "- 划分阶段：通过递归不断地将数组从中点处分开，将长数组的排序问题转换为短数组的排序问题。\n",
    "- 合并阶段：当子数组长度为 1 时终止划分，开始合并，持续地将左右两个较短的有序数组合并为一个较长的有序数组，直至结束。"
   ]
  },
  {
   "cell_type": "code",
   "execution_count": 3,
   "metadata": {},
   "outputs": [],
   "source": [
    "def merge(nums: list[int], left: int, mid: int, right: int):\n",
    "    \"\"\"合并左子数组和右子数组\"\"\"\n",
    "    # 左子数组区间为 [left, mid], 右子数组区间为 [mid+1, right]\n",
    "    # 创建一个临时数组 tmp ，用于存放合并后的结果\n",
    "    tmp = [0] * (right - left + 1)\n",
    "    # 初始化左子数组和右子数组的起始索引\n",
    "    i, j, k = left, mid + 1, 0\n",
    "    # 当左右子数组都还有元素时，进行比较并将较小的元素复制到临时数组中\n",
    "    while i <= mid and j <= right:\n",
    "        if nums[i] <= nums[j]:\n",
    "            tmp[k] = nums[i]\n",
    "            i += 1\n",
    "        else:\n",
    "            tmp[k] = nums[j]\n",
    "            j += 1\n",
    "        k += 1\n",
    "    # 将左子数组和右子数组的剩余元素复制到临时数组中\n",
    "    while i <= mid:\n",
    "        tmp[k] = nums[i]\n",
    "        i += 1\n",
    "        k += 1\n",
    "    while j <= right:\n",
    "        tmp[k] = nums[j]\n",
    "        j += 1\n",
    "        k += 1\n",
    "    # 将临时数组 tmp 中的元素复制回原数组 nums 的对应区间\n",
    "    for k in range(0, len(tmp)):\n",
    "        nums[left + k] = tmp[k]\n",
    "\n",
    "\n",
    "def merge_sort(nums: list[int], left: int, right: int):\n",
    "    \"\"\"归并排序\"\"\"\n",
    "    # 终止条件\n",
    "    if left >= right:\n",
    "        return  # 当子数组长度为 1 时终止递归\n",
    "    # 划分阶段\n",
    "    mid = (left + right) // 2  # 计算中点\n",
    "    merge_sort(nums, left, mid)  # 递归左子数组\n",
    "    merge_sort(nums, mid + 1, right)  # 递归右子数组\n",
    "    # 合并阶段\n",
    "    merge(nums, left, mid, right)\n",
    "    return nums"
   ]
  },
  {
   "cell_type": "code",
   "execution_count": 4,
   "metadata": {},
   "outputs": [
    {
     "name": "stdout",
     "output_type": "stream",
     "text": [
      "[1, 2, 3, 4, 5]\n"
     ]
    }
   ],
   "source": [
    "nums = [3, 2, 1, 5, 4]\n",
    "print(merge_sort(nums, 0, len(nums) - 1))"
   ]
  },
  {
   "cell_type": "markdown",
   "metadata": {},
   "source": [
    "- 时间复杂度：O(nlogn)，非自适应排序，不依赖于输入数据的分布。\n",
    "- 空间复杂度：O(n)，需要额外的空间存储合并后的数组，非原地排序。\n",
    "- 稳定排序。"
   ]
  }
 ],
 "metadata": {
  "kernelspec": {
   "display_name": "llm10",
   "language": "python",
   "name": "python3"
  },
  "language_info": {
   "codemirror_mode": {
    "name": "ipython",
    "version": 3
   },
   "file_extension": ".py",
   "mimetype": "text/x-python",
   "name": "python",
   "nbconvert_exporter": "python",
   "pygments_lexer": "ipython3",
   "version": "3.10.13"
  }
 },
 "nbformat": 4,
 "nbformat_minor": 2
}
