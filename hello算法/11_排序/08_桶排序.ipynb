{
 "cells": [
  {
   "cell_type": "markdown",
   "metadata": {},
   "source": [
    "# 桶排序（bucket sort）\n",
    "桶排序是分治策略的一个典型应用。它通过设置一些具有大小顺序的桶，每个桶对应一个数据范围，将数据平均分配到各个桶中；然后，在每个桶内部分别执行排序；最终按照桶的顺序将所有数据合并。\n"
   ]
  },
  {
   "cell_type": "code",
   "execution_count": 1,
   "metadata": {},
   "outputs": [],
   "source": [
    "def bucket_sort(nums: list[float]):\n",
    "    \"\"\"桶排序\"\"\"\n",
    "    # 初始化 k = n/2 个桶，预期向每个桶分配 2 个元素\n",
    "    k = len(nums) // 2\n",
    "    buckets = [[] for _ in range(k)]\n",
    "    # 1. 将数组元素分配到各个桶中\n",
    "    for num in nums:\n",
    "        # 输入数据范围为 [0, 1)，使用 num * k 映射到索引范围 [0, k-1]\n",
    "        i = int(num * k)\n",
    "        # 将 num 添加进桶 i\n",
    "        buckets[i].append(num)\n",
    "    # 2. 对各个桶执行排序\n",
    "    for bucket in buckets:\n",
    "        # 使用内置排序函数，也可以替换成其他排序算法\n",
    "        bucket.sort()\n",
    "    # 3. 遍历桶合并结果\n",
    "    i = 0\n",
    "    for bucket in buckets:\n",
    "        for num in bucket:\n",
    "            nums[i] = num\n",
    "            i += 1\n",
    "    return nums"
   ]
  },
  {
   "cell_type": "code",
   "execution_count": 2,
   "metadata": {},
   "outputs": [
    {
     "name": "stdout",
     "output_type": "stream",
     "text": [
      "[0.1, 0.2, 0.3, 0.4, 0.5, 0.6, 0.7, 0.8, 0.9]\n"
     ]
    }
   ],
   "source": [
    "nums = [0.1, 0.3, 0.2, 0.5, 0.4, 0.7, 0.6, 0.9, 0.8]\n",
    "print(bucket_sort(nums))"
   ]
  },
  {
   "cell_type": "markdown",
   "metadata": {},
   "source": [
    "- 时间复杂度：O(n+k)\n",
    "- 空间复杂度：O(n+k)，非原地排序\n",
    "- 自适应排序"
   ]
  },
  {
   "cell_type": "markdown",
   "metadata": {},
   "source": [
    "- 桶排序的时间复杂度理论上可以达到O(n)，关键在于将元素均匀分配到各个桶中，因为实际数据往往不是均匀分布的\n",
    "- 可以先设定一条大致的分界线，将数据粗略地分到 3 个桶中。分配完毕后，再将商品较多的桶继续划分为 3 个桶，直至所有桶中的元素数量大致相等\n",
    "- 如果提前知道数据的概率分布，则可以根据数据概率分布设置每个桶的价格分界线"
   ]
  },
  {
   "cell_type": "markdown",
   "metadata": {},
   "source": []
  }
 ],
 "metadata": {
  "kernelspec": {
   "display_name": "llm10",
   "language": "python",
   "name": "python3"
  },
  "language_info": {
   "codemirror_mode": {
    "name": "ipython",
    "version": 3
   },
   "file_extension": ".py",
   "mimetype": "text/x-python",
   "name": "python",
   "nbconvert_exporter": "python",
   "pygments_lexer": "ipython3",
   "version": "3.10.13"
  }
 },
 "nbformat": 4,
 "nbformat_minor": 2
}
