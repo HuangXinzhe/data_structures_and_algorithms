{
 "cells": [
  {
   "cell_type": "markdown",
   "metadata": {},
   "source": [
    "# 堆排序（heap sort）\n",
    "1. 输入数组并建立大顶堆。完成后，最大元素位于堆顶。\n",
    "2. 将堆顶元素（第一个元素）与堆底元素（最后一个元素）交换。完成交换后，堆的长度减-1，已排序元素数量加1。\n",
    "3. 从堆顶元素开始，从顶到底执行堆化操作（sift down）。完成堆化后，堆的性质得到修复。\n",
    "4. 循环执行第2.步和第3.步。循环n-1轮后，即可完成数组排序。"
   ]
  },
  {
   "cell_type": "code",
   "execution_count": 1,
   "metadata": {},
   "outputs": [],
   "source": [
    "def sift_down(nums: list[int], n: int, i: int):\n",
    "    \"\"\"堆的长度为 n ，从节点 i 开始，从顶至底堆化\"\"\"\n",
    "    while True:\n",
    "        # 判断节点 i, l, r 中值最大的节点，记为 ma\n",
    "        l = 2 * i + 1\n",
    "        r = 2 * i + 2\n",
    "        ma = i\n",
    "        if l < n and nums[l] > nums[ma]:\n",
    "            ma = l\n",
    "        if r < n and nums[r] > nums[ma]:\n",
    "            ma = r\n",
    "        # 若节点 i 最大或索引 l, r 越界，则无须继续堆化，跳出\n",
    "        if ma == i:\n",
    "            break\n",
    "        # 交换两节点\n",
    "        nums[i], nums[ma] = nums[ma], nums[i]\n",
    "        # 循环向下堆化\n",
    "        i = ma\n",
    "\n",
    "\n",
    "def heap_sort(nums: list[int]):\n",
    "    \"\"\"堆排序\"\"\"\n",
    "    # 建堆操作：堆化除叶节点以外的其他所有节点\n",
    "    for i in range(len(nums) // 2 - 1, -1, -1):\n",
    "        sift_down(nums, len(nums), i)\n",
    "    # 从堆中提取最大元素，循环 n-1 轮\n",
    "    for i in range(len(nums) - 1, 0, -1):\n",
    "        # 交换根节点与最右叶节点（交换首元素与尾元素）\n",
    "        nums[0], nums[i] = nums[i], nums[0]\n",
    "        # 以根节点为起点，从顶至底进行堆化\n",
    "        sift_down(nums, i, 0)"
   ]
  },
  {
   "cell_type": "code",
   "execution_count": 4,
   "metadata": {},
   "outputs": [
    {
     "name": "stdout",
     "output_type": "stream",
     "text": [
      "[1, 2, 3, 4, 5, 6]\n"
     ]
    }
   ],
   "source": [
    "nums = [3, 2, 1, 5, 6, 4]\n",
    "heap_sort(nums)\n",
    "print(nums)"
   ]
  },
  {
   "cell_type": "markdown",
   "metadata": {},
   "source": [
    "- sift_down是堆排序\n",
    "- heap_sort中从堆的叶子结点逐步向上构建大顶堆\n",
    "- 从构建好的大顶堆中取出堆顶元素，与堆的最后一个元素交换，然后对剩下的元素进行堆调整"
   ]
  },
  {
   "cell_type": "markdown",
   "metadata": {},
   "source": [
    "- 构建堆的时间复杂度是O(n)，提取堆元素的时间复杂度是O(logn)，所以堆排序的时间复杂度是O(nlogn)。\n",
    "- 空间复杂度是O(1)，原地排序\n",
    "- 不稳定排序，相同元素的相对位置可能会发生变化"
   ]
  }
 ],
 "metadata": {
  "kernelspec": {
   "display_name": "llm10",
   "language": "python",
   "name": "python3"
  },
  "language_info": {
   "codemirror_mode": {
    "name": "ipython",
    "version": 3
   },
   "file_extension": ".py",
   "mimetype": "text/x-python",
   "name": "python",
   "nbconvert_exporter": "python",
   "pygments_lexer": "ipython3",
   "version": "3.10.13"
  }
 },
 "nbformat": 4,
 "nbformat_minor": 2
}
