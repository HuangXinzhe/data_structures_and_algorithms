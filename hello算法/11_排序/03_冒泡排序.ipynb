{
 "cells": [
  {
   "cell_type": "markdown",
   "metadata": {},
   "source": [
    "# 冒泡排序（bubble sort）\n",
    "连续地比较与交换相邻元素实现排序"
   ]
  },
  {
   "cell_type": "code",
   "execution_count": 1,
   "metadata": {},
   "outputs": [],
   "source": [
    "def bubble_sort(nums: list[int]):\n",
    "    \"\"\"冒泡排序\"\"\"\n",
    "    for _ in range(len(nums)):\n",
    "        for j in range(len(nums) - 1):\n",
    "            if nums[j] > nums[j + 1]:\n",
    "                nums[j], nums[j + 1] = nums[j + 1], nums[j]\n",
    "    return nums"
   ]
  },
  {
   "cell_type": "code",
   "execution_count": null,
   "metadata": {},
   "outputs": [],
   "source": []
  },
  {
   "cell_type": "code",
   "execution_count": 2,
   "metadata": {},
   "outputs": [
    {
     "name": "stdout",
     "output_type": "stream",
     "text": [
      "[1, 2, 5, 5, 6, 9]\n"
     ]
    }
   ],
   "source": [
    "nums = [5, 2, 9, 1, 5, 6]\n",
    "print(bubble_sort(nums))"
   ]
  },
  {
   "cell_type": "markdown",
   "metadata": {},
   "source": [
    "- 时间复杂度：$O(n^2)$，自适应排序\n",
    "- 空间复杂度：$O(1)$，原地排序\n",
    "- 稳定排序：遇到相等的元素不交换，保证相对位置不变"
   ]
  }
 ],
 "metadata": {
  "kernelspec": {
   "display_name": "llm10",
   "language": "python",
   "name": "python3"
  },
  "language_info": {
   "codemirror_mode": {
    "name": "ipython",
    "version": 3
   },
   "file_extension": ".py",
   "mimetype": "text/x-python",
   "name": "python",
   "nbconvert_exporter": "python",
   "pygments_lexer": "ipython3",
   "version": "3.1.-1"
  }
 },
 "nbformat": 4,
 "nbformat_minor": 2
}
