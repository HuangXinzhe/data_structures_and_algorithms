{
 "cells": [
  {
   "cell_type": "markdown",
   "metadata": {},
   "source": [
    "# 选择排序（selection sort）\n",
    "开启一个循环，每轮从未排序区间选择最小的元素，将其放到已排序区间的末尾。"
   ]
  },
  {
   "cell_type": "code",
   "execution_count": 3,
   "metadata": {},
   "outputs": [],
   "source": [
    "def selection_sort(nums: list[int]):\n",
    "    \"\"\"选择排序\"\"\"\n",
    "    n = len(nums)\n",
    "    # 外循环：未排序区间为 [i, n-1]\n",
    "    for i in range(n - 1):\n",
    "        # 内循环：找到未排序区间内的最小元素\n",
    "        k = i\n",
    "        for j in range(i + 1, n):\n",
    "            if nums[j] < nums[k]:\n",
    "                k = j  # 记录最小元素的索引\n",
    "        # 将该最小元素与未排序区间的首个元素交换\n",
    "        nums[i], nums[k] = nums[k], nums[i]\n",
    "    return nums"
   ]
  },
  {
   "cell_type": "code",
   "execution_count": 4,
   "metadata": {},
   "outputs": [
    {
     "name": "stdout",
     "output_type": "stream",
     "text": [
      "[11, 12, 22, 25, 34, 64, 90]\n"
     ]
    }
   ],
   "source": [
    "nums = [64, 34, 25, 12, 22, 11, 90]\n",
    "print(selection_sort(nums))"
   ]
  },
  {
   "cell_type": "markdown",
   "metadata": {},
   "source": [
    "- 时间复杂度：$O(n^2)$\n",
    "- 空间复杂度：$O(1)$\n",
    "- 非自适应排序\n",
    "- 不稳定排序"
   ]
  }
 ],
 "metadata": {
  "kernelspec": {
   "display_name": "llm10",
   "language": "python",
   "name": "python3"
  },
  "language_info": {
   "codemirror_mode": {
    "name": "ipython",
    "version": 3
   },
   "file_extension": ".py",
   "mimetype": "text/x-python",
   "name": "python",
   "nbconvert_exporter": "python",
   "pygments_lexer": "ipython3",
   "version": "3.10.13"
  }
 },
 "nbformat": 4,
 "nbformat_minor": 2
}
