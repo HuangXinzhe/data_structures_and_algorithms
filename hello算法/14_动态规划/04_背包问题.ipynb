{
 "cells": [
  {
   "cell_type": "markdown",
   "metadata": {},
   "source": [
    "# 0-1背包问题\n",
    "给定容量的背包和给定的多个物品，每个物品只能取一次，每个物品的重量和价值是已知的，求背包能装的最大价值。"
   ]
  },
  {
   "cell_type": "code",
   "execution_count": null,
   "metadata": {},
   "outputs": [],
   "source": [
    "def knapsack_dp(wgt: list[int], val: list[int], cap: int) -> int:\n",
    "    \"\"\"0-1 背包：动态规划\"\"\"\n",
    "    n = len(wgt)\n",
    "    # 初始化 dp 表\n",
    "    dp = [[0] * (cap + 1) for _ in range(n + 1)]\n",
    "    # 状态转移\n",
    "    for i in range(1, n + 1):\n",
    "        for c in range(1, cap + 1):\n",
    "            if wgt[i - 1] > c:\n",
    "                # 若超过背包容量，则不选物品 i\n",
    "                dp[i][c] = dp[i - 1][c]\n",
    "            else:\n",
    "                # 不选和选物品 i 这两种方案的较大值\n",
    "                dp[i][c] = max(dp[i - 1][c], dp[i - 1]\n",
    "                               [c - wgt[i - 1]] + val[i - 1])\n",
    "    return dp[n][cap]"
   ]
  },
  {
   "cell_type": "code",
   "execution_count": null,
   "metadata": {},
   "outputs": [],
   "source": [
    "def knapsack_dp_comp(wgt: list[int], val: list[int], cap: int) -> int:\n",
    "    \"\"\"0-1 背包：空间优化后的动态规划\"\"\"\n",
    "    n = len(wgt)\n",
    "    # 初始化 dp 表\n",
    "    dp = [0] * (cap + 1)\n",
    "    # 状态转移\n",
    "    for i in range(1, n + 1):\n",
    "        # 倒序遍历\n",
    "        for c in range(cap, 0, -1):\n",
    "            if wgt[i - 1] > c:\n",
    "                # 若超过背包容量，则不选物品 i\n",
    "                dp[c] = dp[c]\n",
    "            else:\n",
    "                # 不选和选物品 i 这两种方案的较大值\n",
    "                dp[c] = max(dp[c], dp[c - wgt[i - 1]] + val[i - 1])\n",
    "    return dp[cap]"
   ]
  }
 ],
 "metadata": {
  "language_info": {
   "name": "python"
  }
 },
 "nbformat": 4,
 "nbformat_minor": 2
}
