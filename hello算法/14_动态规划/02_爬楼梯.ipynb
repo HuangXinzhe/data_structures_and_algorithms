{
 "cells": [
  {
   "cell_type": "markdown",
   "metadata": {},
   "source": [
    "# 使用动态规划完成爬楼梯相关问题"
   ]
  },
  {
   "cell_type": "markdown",
   "metadata": {},
   "source": [
    "## 1. 爬楼梯方法数\n",
    "爬楼梯，每次只能爬1或2个台阶，有多少种方法爬到n层楼梯"
   ]
  },
  {
   "cell_type": "code",
   "execution_count": 5,
   "metadata": {},
   "outputs": [],
   "source": [
    "def climbStairs(n: int) -> int:\n",
    "    # 边界条件\n",
    "    if n == 1 or n == 2:\n",
    "        return n\n",
    "    dp = [0] * n\n",
    "\n",
    "    # 最优子结构\n",
    "    dp[0] = 1\n",
    "    dp[1] = 2\n",
    "    for i in range(2, n):\n",
    "        # 状态转移方程\n",
    "        dp[i] = dp[i - 1] + dp[i - 2]\n",
    "    return dp[n - 1]"
   ]
  },
  {
   "cell_type": "code",
   "execution_count": 6,
   "metadata": {},
   "outputs": [
    {
     "name": "stdout",
     "output_type": "stream",
     "text": [
      "8\n"
     ]
    }
   ],
   "source": [
    "climb = climbStairs(5)\n",
    "print(climb)"
   ]
  },
  {
   "cell_type": "markdown",
   "metadata": {},
   "source": [
    "### 针对爬楼梯的空间优化\n",
    "因为每次只需要前两个数，所以可以只用两个变量来存储，而不需要用数组来存储。"
   ]
  },
  {
   "cell_type": "code",
   "execution_count": 7,
   "metadata": {},
   "outputs": [],
   "source": [
    "def climbStairs2(n: int) -> int:\n",
    "    if n == 1 or n == 2:\n",
    "        return n\n",
    "    a, b = 1, 2\n",
    "    for i in range(2, n):\n",
    "        a, b = b, a + b\n",
    "    return b"
   ]
  },
  {
   "cell_type": "code",
   "execution_count": 8,
   "metadata": {},
   "outputs": [
    {
     "name": "stdout",
     "output_type": "stream",
     "text": [
      "8\n"
     ]
    }
   ],
   "source": [
    "climb2 = climbStairs2(5)\n",
    "print(climb2)"
   ]
  },
  {
   "cell_type": "markdown",
   "metadata": {},
   "source": [
    "通过空间优化可以使得空间复杂度从O(n)降低到O(1)。\n",
    "\n",
    "在动态规划问题中，当前状态往往仅与前面有限个状态有关，可以只保留必要的状态，通过“降维”来节省内存空间。这种空间优化技巧被称为“滚动变量”或“滚动数组”。"
   ]
  },
  {
   "cell_type": "markdown",
   "metadata": {},
   "source": [
    "## 2. 爬楼梯的最小成本\n",
    "爬楼梯，每次只能爬1或2个台阶，每个台阶都有一个对应的成本，有多少种方法爬到n层楼梯，使得成本最小。"
   ]
  },
  {
   "cell_type": "code",
   "execution_count": 13,
   "metadata": {},
   "outputs": [],
   "source": [
    "def min_cost_climbStairs(n: int, cost: list[int]) -> int:\n",
    "    if n == 1 or n == 2:\n",
    "        return cost[n - 1]\n",
    "    dp = [0] * n\n",
    "    dp[0] = cost[0]\n",
    "    dp[1] = cost[1]\n",
    "    for i in range(2, n):\n",
    "        dp[i] = min(dp[i - 1], dp[i - 2]) + cost[i]\n",
    "    return dp[n - 1]"
   ]
  },
  {
   "cell_type": "code",
   "execution_count": 14,
   "metadata": {},
   "outputs": [
    {
     "name": "stdout",
     "output_type": "stream",
     "text": [
      "30\n"
     ]
    }
   ],
   "source": [
    "min_cost = min_cost_climbStairs(3, [10, 15, 20])\n",
    "print(min_cost)"
   ]
  },
  {
   "cell_type": "markdown",
   "metadata": {},
   "source": [
    "### 优化空间"
   ]
  },
  {
   "cell_type": "code",
   "execution_count": 15,
   "metadata": {},
   "outputs": [],
   "source": [
    "def min_cost_climbStairs2(n: int, cost: list[int]) -> int:\n",
    "    if n == 1 or n == 2:\n",
    "        return cost[n - 1]\n",
    "    a, b = cost[0], cost[1]\n",
    "    for i in range(2, n):\n",
    "        a, b = b, min(a, b) + cost[i]\n",
    "    return b"
   ]
  },
  {
   "cell_type": "code",
   "execution_count": 16,
   "metadata": {},
   "outputs": [
    {
     "name": "stdout",
     "output_type": "stream",
     "text": [
      "30\n"
     ]
    }
   ],
   "source": [
    "min_cost2 = min_cost_climbStairs2(3, [10, 15, 20])\n",
    "print(min_cost2)"
   ]
  },
  {
   "cell_type": "markdown",
   "metadata": {},
   "source": [
    "## 3. 带约束的爬楼梯\n",
    "不能连续爬1个台阶，有多少种方法爬到n层楼梯"
   ]
  },
  {
   "cell_type": "code",
   "execution_count": 17,
   "metadata": {},
   "outputs": [],
   "source": [
    "def climbStairs3(n: int) -> int:\n",
    "    if n == 1 or n == 2:\n",
    "        return 1\n",
    "    dp = [[0] * 3 for _ in range(n+1)]  # 第一个维度是楼梯的阶数，第二个维度是是否使用连续的一步\n",
    "    dp[1][1] = 1\n",
    "    dp[1][2] = 0\n",
    "    dp[2][1] = 0\n",
    "    dp[2][2] = 1\n",
    "    for i in range(3, n+1):\n",
    "        dp[i][1] = dp[i - 1][2]\n",
    "        dp[i][2] = dp[i - 2][1] + dp[i - 2][2]\n",
    "    return dp[n][1] + dp[n][2]"
   ]
  },
  {
   "cell_type": "code",
   "execution_count": 18,
   "metadata": {},
   "outputs": [
    {
     "name": "stdout",
     "output_type": "stream",
     "text": [
      "3\n"
     ]
    }
   ],
   "source": [
    "climb3 = climbStairs3(5)\n",
    "print(climb3)"
   ]
  }
 ],
 "metadata": {
  "kernelspec": {
   "display_name": "llm10",
   "language": "python",
   "name": "python3"
  },
  "language_info": {
   "codemirror_mode": {
    "name": "ipython",
    "version": 3
   },
   "file_extension": ".py",
   "mimetype": "text/x-python",
   "name": "python",
   "nbconvert_exporter": "python",
   "pygments_lexer": "ipython3",
   "version": "3.10.13"
  }
 },
 "nbformat": 4,
 "nbformat_minor": 2
}
