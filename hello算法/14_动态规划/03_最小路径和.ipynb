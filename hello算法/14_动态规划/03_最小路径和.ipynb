{
 "cells": [
  {
   "cell_type": "markdown",
   "metadata": {},
   "source": [
    "# 最小路径和"
   ]
  },
  {
   "cell_type": "code",
   "execution_count": 1,
   "metadata": {},
   "outputs": [],
   "source": [
    "def min_path_sum_dp(grid: list[list[int]]) -> int:\n",
    "    \"\"\"最小路径和：动态规划\"\"\"\n",
    "    n, m = len(grid), len(grid[0])\n",
    "    # 初始化 dp 表\n",
    "    dp = [[0] * m for _ in range(n)]\n",
    "    dp[0][0] = grid[0][0]\n",
    "    # 状态转移：首行\n",
    "    for j in range(1, m):\n",
    "        dp[0][j] = dp[0][j - 1] + grid[0][j]\n",
    "    # 状态转移：首列\n",
    "    for i in range(1, n):\n",
    "        dp[i][0] = dp[i - 1][0] + grid[i][0]\n",
    "    # 状态转移：其余行和列\n",
    "    for i in range(1, n):\n",
    "        for j in range(1, m):\n",
    "            dp[i][j] = min(dp[i][j - 1], dp[i - 1][j]) + grid[i][j]\n",
    "    return dp[n - 1][m - 1]"
   ]
  },
  {
   "cell_type": "code",
   "execution_count": 2,
   "metadata": {},
   "outputs": [
    {
     "name": "stdout",
     "output_type": "stream",
     "text": [
      "13\n"
     ]
    }
   ],
   "source": [
    "grid = [[1, 3, 1, 5], [2, 2, 4, 2], [5, 3, 2, 1], [4, 3, 5, 2]]\n",
    "print(min_path_sum_dp(grid))"
   ]
  },
  {
   "cell_type": "code",
   "execution_count": 4,
   "metadata": {},
   "outputs": [],
   "source": [
    "def min_path_sum_dp_comp(grid: list[list[int]]) -> int:\n",
    "    \"\"\"最小路径和：空间优化后的动态规划\"\"\"\n",
    "    n, m = len(grid), len(grid[0])\n",
    "    # 初始化 dp 表\n",
    "    dp = [0] * m\n",
    "    # 状态转移：首行\n",
    "    dp[0] = grid[0][0]\n",
    "    for j in range(1, m):\n",
    "        dp[j] = dp[j - 1] + grid[0][j]\n",
    "    # 状态转移：其余行\n",
    "    for i in range(1, n):\n",
    "        # 状态转移：首列\n",
    "        dp[0] = dp[0] + grid[i][0]\n",
    "        # 状态转移：其余列\n",
    "        for j in range(1, m):\n",
    "            dp[j] = min(dp[j - 1], dp[j]) + grid[i][j]\n",
    "    return dp[m - 1]"
   ]
  },
  {
   "cell_type": "code",
   "execution_count": 5,
   "metadata": {},
   "outputs": [
    {
     "name": "stdout",
     "output_type": "stream",
     "text": [
      "13\n"
     ]
    }
   ],
   "source": [
    "grid = [[1, 3, 1, 5], [2, 2, 4, 2], [5, 3, 2, 1], [4, 3, 5, 2]]\n",
    "print(min_path_sum_dp_comp(grid))"
   ]
  }
 ],
 "metadata": {
  "kernelspec": {
   "display_name": "llm10",
   "language": "python",
   "name": "python3"
  },
  "language_info": {
   "codemirror_mode": {
    "name": "ipython",
    "version": 3
   },
   "file_extension": ".py",
   "mimetype": "text/x-python",
   "name": "python",
   "nbconvert_exporter": "python",
   "pygments_lexer": "ipython3",
   "version": "3.10.13"
  }
 },
 "nbformat": 4,
 "nbformat_minor": 2
}
