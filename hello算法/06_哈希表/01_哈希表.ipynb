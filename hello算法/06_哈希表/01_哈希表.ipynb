{
 "cells": [
  {
   "cell_type": "markdown",
   "metadata": {},
   "source": [
    "# 哈希表\n",
    "- 哈希表（hash table），又称散列表，它通过建立键 key 与值 value 之间的映射，实现高效的元素查询\n",
    "- 可以在O(1)的时间复杂度内完成元素的查找、插入和删除操作"
   ]
  },
  {
   "cell_type": "code",
   "execution_count": 2,
   "metadata": {},
   "outputs": [],
   "source": [
    "# 初始化哈希表\n",
    "hmap: dict = {}\n",
    "\n",
    "# 添加操作\n",
    "# 在哈希表中添加键值对 (key, value)\n",
    "hmap[12836] = \"小哈\"\n",
    "hmap[15937] = \"小啰\"\n",
    "hmap[16750] = \"小算\"\n",
    "hmap[13276] = \"小法\"\n",
    "hmap[10583] = \"小鸭\""
   ]
  },
  {
   "cell_type": "code",
   "execution_count": 4,
   "metadata": {},
   "outputs": [
    {
     "data": {
      "text/plain": [
       "'小啰'"
      ]
     },
     "execution_count": 4,
     "metadata": {},
     "output_type": "execute_result"
    }
   ],
   "source": [
    "# 查询操作\n",
    "# 向哈希表中输入键 key ，得到值 value\n",
    "name: str = hmap[15937]\n",
    "name"
   ]
  },
  {
   "cell_type": "code",
   "execution_count": 5,
   "metadata": {},
   "outputs": [
    {
     "data": {
      "text/plain": [
       "'小鸭'"
      ]
     },
     "execution_count": 5,
     "metadata": {},
     "output_type": "execute_result"
    }
   ],
   "source": [
    "# 删除操作\n",
    "# 在哈希表中删除键值对 (key, value)\n",
    "hmap.pop(10583)"
   ]
  },
  {
   "cell_type": "markdown",
   "metadata": {},
   "source": [
    "哈希表有三种常用的遍历方式：遍历键值对、遍历键和遍历值"
   ]
  },
  {
   "cell_type": "code",
   "execution_count": 6,
   "metadata": {},
   "outputs": [
    {
     "name": "stdout",
     "output_type": "stream",
     "text": [
      "12836 -> 小哈\n",
      "15937 -> 小啰\n",
      "16750 -> 小算\n",
      "13276 -> 小法\n",
      "12836\n",
      "15937\n",
      "16750\n",
      "13276\n",
      "小哈\n",
      "小啰\n",
      "小算\n",
      "小法\n"
     ]
    }
   ],
   "source": [
    "# 遍历哈希表\n",
    "# 遍历键值对 key->value\n",
    "for key, value in hmap.items():\n",
    "    print(key, \"->\", value)\n",
    "# 单独遍历键 key\n",
    "for key in hmap.keys():\n",
    "    print(key)\n",
    "# 单独遍历值 value\n",
    "for value in hmap.values():\n",
    "    print(value)"
   ]
  },
  {
   "cell_type": "markdown",
   "metadata": {},
   "source": [
    "## 哈希表的简单实现\n",
    "哈希函数的作用是将一个较大的输入空间映射到一个较小的输出空间。在哈希表中，输入空间是所有 key ，输出空间是所有桶（数组索引）。换句话说，输入一个 key ，我们可以通过哈希函数得到该 key 对应的键值对在数组中的存储位置"
   ]
  },
  {
   "cell_type": "code",
   "execution_count": null,
   "metadata": {},
   "outputs": [],
   "source": [
    "class Pair:\n",
    "    \"\"\"键值对\"\"\"\n",
    "\n",
    "    def __init__(self, key: int, val: str):\n",
    "        self.key = key\n",
    "        self.val = val\n",
    "\n",
    "\n",
    "class ArrayHashMap:\n",
    "    \"\"\"基于数组实现的哈希表\"\"\"\n",
    "\n",
    "    def __init__(self):\n",
    "        \"\"\"构造方法\"\"\"\n",
    "        # 初始化数组，包含 100 个桶\n",
    "        self.buckets: list[Pair | None] = [None] * 100\n",
    "\n",
    "    def hash_func(self, key: int) -> int:\n",
    "        \"\"\"哈希函数\"\"\"\n",
    "        index = key % 100\n",
    "        return index\n",
    "\n",
    "    def get(self, key: int) -> str:\n",
    "        \"\"\"查询操作\"\"\"\n",
    "        index: int = self.hash_func(key)\n",
    "        pair: Pair = self.buckets[index]\n",
    "        if pair is None:\n",
    "            return None\n",
    "        return pair.val\n",
    "\n",
    "    def put(self, key: int, val: str):\n",
    "        \"\"\"添加操作\"\"\"\n",
    "        pair = Pair(key, val)\n",
    "        index: int = self.hash_func(key)\n",
    "        self.buckets[index] = pair\n",
    "\n",
    "    def remove(self, key: int):\n",
    "        \"\"\"删除操作\"\"\"\n",
    "        index: int = self.hash_func(key)\n",
    "        # 置为 None ，代表删除\n",
    "        self.buckets[index] = None\n",
    "\n",
    "    def entry_set(self) -> list[Pair]:\n",
    "        \"\"\"获取所有键值对\"\"\"\n",
    "        result: list[Pair] = []\n",
    "        for pair in self.buckets:\n",
    "            if pair is not None:\n",
    "                result.append(pair)\n",
    "        return result\n",
    "\n",
    "    def key_set(self) -> list[int]:\n",
    "        \"\"\"获取所有键\"\"\"\n",
    "        result = []\n",
    "        for pair in self.buckets:\n",
    "            if pair is not None:\n",
    "                result.append(pair.key)\n",
    "        return result\n",
    "\n",
    "    def value_set(self) -> list[str]:\n",
    "        \"\"\"获取所有值\"\"\"\n",
    "        result = []\n",
    "        for pair in self.buckets:\n",
    "            if pair is not None:\n",
    "                result.append(pair.val)\n",
    "        return result\n",
    "\n",
    "    def print(self):\n",
    "        \"\"\"打印哈希表\"\"\"\n",
    "        for pair in self.buckets:\n",
    "            if pair is not None:\n",
    "                print(pair.key, \"->\", pair.val)"
   ]
  },
  {
   "cell_type": "markdown",
   "metadata": {},
   "source": [
    "## 哈希冲突与扩容\n",
    "- 理论上存在多个输入对应相同输出  \n",
    "- 可以通过扩容来解决哈希冲突，但是扩容会导致哈希表中的元素重新分布，需要重新计算哈希值，因此扩容操作的时间复杂度是 O(n)\n",
    "- 负载因子（load factor）是哈希表中元素的数量和桶的数量之比，当负载因子超过某个阈值时，就需要进行扩容操作"
   ]
  }
 ],
 "metadata": {
  "kernelspec": {
   "display_name": "llm10",
   "language": "python",
   "name": "python3"
  },
  "language_info": {
   "codemirror_mode": {
    "name": "ipython",
    "version": 3
   },
   "file_extension": ".py",
   "mimetype": "text/x-python",
   "name": "python",
   "nbconvert_exporter": "python",
   "pygments_lexer": "ipython3",
   "version": "3.10.13"
  }
 },
 "nbformat": 4,
 "nbformat_minor": 2
}
