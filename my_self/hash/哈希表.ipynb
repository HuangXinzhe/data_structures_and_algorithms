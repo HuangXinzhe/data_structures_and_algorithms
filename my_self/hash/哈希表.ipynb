{
 "cells": [
  {
   "cell_type": "code",
   "execution_count": 8,
   "metadata": {},
   "outputs": [],
   "source": [
    "class Pair:\n",
    "    \"\"\"键值对\"\"\"\n",
    "\n",
    "    def __init__(self, key: int, val: str):\n",
    "        self.key = key\n",
    "        self.val = val\n",
    "\n",
    "\n",
    "class ArrayHashMap:\n",
    "    \"\"\"基于数组实现的哈希表\"\"\"\n",
    "\n",
    "    def __init__(self):\n",
    "        \"\"\"构造方法\"\"\"\n",
    "        # 初始化数组，包含 100 个桶\n",
    "        self.buckets: list[Pair | None] = [None] * 100\n",
    "\n",
    "    def hash_func(self, key: int) -> int:\n",
    "        \"\"\"哈希函数\"\"\"\n",
    "        index = key % 100\n",
    "        return index\n",
    "\n",
    "    def get(self, key: int) -> str:\n",
    "        \"\"\"查询操作\"\"\"\n",
    "        index: int = self.hash_func(key)\n",
    "        pair: Pair = self.buckets[index]\n",
    "        if pair is None:\n",
    "            return None\n",
    "        return pair.val\n",
    "\n",
    "    def put(self, key: int, val: str):\n",
    "        \"\"\"添加操作\"\"\"\n",
    "        pair = Pair(key, val)\n",
    "        index: int = self.hash_func(key)\n",
    "        self.buckets[index] = pair\n",
    "\n",
    "    def remove(self, key: int):\n",
    "        \"\"\"删除操作\"\"\"\n",
    "        index: int = self.hash_func(key)\n",
    "        # 置为 None ，代表删除\n",
    "        self.buckets[index] = None\n",
    "\n",
    "    def entry_set(self) -> list[Pair]:\n",
    "        \"\"\"获取所有键值对\"\"\"\n",
    "        result: list[Pair] = []\n",
    "        for pair in self.buckets:\n",
    "            if pair is not None:\n",
    "                result.append(pair)\n",
    "        return result\n",
    "\n",
    "    def key_set(self) -> list[int]:\n",
    "        \"\"\"获取所有键\"\"\"\n",
    "        result = []\n",
    "        for pair in self.buckets:\n",
    "            if pair is not None:\n",
    "                result.append(pair.key)\n",
    "        return result\n",
    "\n",
    "    def value_set(self) -> list[str]:\n",
    "        \"\"\"获取所有值\"\"\"\n",
    "        result = []\n",
    "        for pair in self.buckets:\n",
    "            if pair is not None:\n",
    "                result.append(pair.val)\n",
    "        return result\n",
    "\n",
    "    def print(self):\n",
    "        \"\"\"打印哈希表\"\"\"\n",
    "        for pair in self.buckets:\n",
    "            if pair is not None:\n",
    "                print(pair.key, \"->\", pair.val)"
   ]
  },
  {
   "cell_type": "code",
   "execution_count": 4,
   "metadata": {},
   "outputs": [
    {
     "name": "stdout",
     "output_type": "stream",
     "text": [
      "1 -> A\n",
      "2 -> B\n",
      "3 -> C\n",
      "A\n",
      "2 -> B\n",
      "3 -> C\n"
     ]
    }
   ],
   "source": [
    "result = ArrayHashMap()\n",
    "result.put(1, \"A\")\n",
    "result.put(2, \"B\")\n",
    "result.put(3, \"C\")\n",
    "result.print()\n",
    "print(result.get(1))\n",
    "result.remove(1)\n",
    "result.print()"
   ]
  },
  {
   "cell_type": "code",
   "execution_count": 5,
   "metadata": {},
   "outputs": [
    {
     "data": {
      "text/plain": [
       "[2, 3]"
      ]
     },
     "execution_count": 5,
     "metadata": {},
     "output_type": "execute_result"
    }
   ],
   "source": [
    "result.key_set()"
   ]
  },
  {
   "cell_type": "code",
   "execution_count": 6,
   "metadata": {},
   "outputs": [
    {
     "data": {
      "text/plain": [
       "['B', 'C']"
      ]
     },
     "execution_count": 6,
     "metadata": {},
     "output_type": "execute_result"
    }
   ],
   "source": [
    "result.value_set()"
   ]
  },
  {
   "cell_type": "code",
   "execution_count": 9,
   "metadata": {},
   "outputs": [
    {
     "data": {
      "text/plain": [
       "[<__main__.Pair at 0x107daf370>, <__main__.Pair at 0x107daf520>]"
      ]
     },
     "execution_count": 9,
     "metadata": {},
     "output_type": "execute_result"
    }
   ],
   "source": [
    "result.entry_set()"
   ]
  }
 ],
 "metadata": {
  "kernelspec": {
   "display_name": "base",
   "language": "python",
   "name": "python3"
  },
  "language_info": {
   "codemirror_mode": {
    "name": "ipython",
    "version": 3
   },
   "file_extension": ".py",
   "mimetype": "text/x-python",
   "name": "python",
   "nbconvert_exporter": "python",
   "pygments_lexer": "ipython3",
   "version": "3.9.12"
  }
 },
 "nbformat": 4,
 "nbformat_minor": 2
}
