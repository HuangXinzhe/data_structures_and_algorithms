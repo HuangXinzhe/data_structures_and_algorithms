{
 "cells": [
  {
   "cell_type": "markdown",
   "metadata": {},
   "source": [
    "# 红黑树\n",
    "- 红黑树的英文是“Red-Black Tree”，简称 R-B Tree。它是一种不严格的平衡二叉查找树\n",
    "- 红黑树中的节点，一类被标记为黑色，一类被标记为红色。除此之外，一棵红黑树还需要满足这样几个要求：\n",
    "    - 根节点是黑色的；\n",
    "    - 每个叶子节点都是黑色的空节点（NIL），也就是说，叶子节点不存储数据；\n",
    "    - 任何相邻的节点都不能同时为红色，也就是说，红色节点是被黑色节点隔开的；\n",
    "    - 每个节点，从该节点到达其可达叶子节点的所有路径，都包含相同数目的黑色节点；"
   ]
  },
  {
   "cell_type": "code",
   "execution_count": null,
   "metadata": {},
   "outputs": [],
   "source": []
  }
 ],
 "metadata": {
  "language_info": {
   "name": "python"
  }
 },
 "nbformat": 4,
 "nbformat_minor": 2
}
