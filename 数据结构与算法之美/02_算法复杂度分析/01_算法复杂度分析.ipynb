{
 "cells": [
  {
   "cell_type": "markdown",
   "metadata": {},
   "source": [
    "## 时间复杂度\n",
    "### 两种计算时间算法复杂度的方式\n",
    "1. 事后统计法\n",
    "- 测试结果非常依赖测试环境\n",
    "- 测试结果受数据规模的影响很大\n",
    "2. 大 O 复杂度表示法\n",
    "- 大 O 时间复杂度实际上并不具体表示代码真正的执行时间，而是表示代码执行时间随数据规模增长的变化趋势，所以，也叫作渐进时间复杂度（asymptotic time complexity），简称时间复杂度。\n",
    "- 假设每行代码执行时间一致，统计执行次数即可"
   ]
  },
  {
   "cell_type": "markdown",
   "metadata": {},
   "source": [
    "### 空间复杂度分析\n",
    "空间复杂度全称就是渐进空间复杂度（asymptotic space complexity），表示算法的存储空间与数据规模之间的增长关系。"
   ]
  },
  {
   "cell_type": "markdown",
   "metadata": {},
   "source": [
    "### 四个复杂度分析方面的知识点：\n",
    "- 最好情况时间复杂度（best case time complexity）\n",
    "    - 在最理想的情况下，执行这段代码的时间复杂度\n",
    "- 最坏情况时间复杂度（worst case time complexity）\n",
    "    - 在最糟糕的情况下，执行这段代码的时间复杂度\n",
    "- 平均情况时间复杂度（average case time complexity）\n",
    "    - 平均时间复杂度的全称应该叫加权平均时间复杂度或者期望时间复杂度\n",
    "- 均摊时间复杂度（amortized time complexity）\n",
    "    - 均摊时间复杂度就是一种特殊的平均时间复杂度\n",
    "    - 将一次复杂均摊到其他多次操作上"
   ]
  }
 ],
 "metadata": {
  "language_info": {
   "name": "python"
  }
 },
 "nbformat": 4,
 "nbformat_minor": 2
}
