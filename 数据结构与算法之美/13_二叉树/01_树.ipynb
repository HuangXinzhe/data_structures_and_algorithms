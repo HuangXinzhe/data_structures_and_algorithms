{
 "cells": [
  {
   "cell_type": "markdown",
   "metadata": {},
   "source": [
    "# 树\n",
    "- 上下层关系为父子关系\n",
    "- 同层关系为兄弟关系\n",
    "- 没有孩子节点的节点称为叶子节点\n",
    "- 没有父节点的节点称为根节点\n",
    "- 高度、深度、层"
   ]
  }
 ],
 "metadata": {
  "language_info": {
   "name": "python"
  }
 },
 "nbformat": 4,
 "nbformat_minor": 2
}
