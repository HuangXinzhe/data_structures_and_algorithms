{
 "cells": [
  {
   "cell_type": "markdown",
   "metadata": {},
   "source": [
    "# 二分查找\n",
    "（Binary Search）算法，也叫折半查找算法"
   ]
  },
  {
   "cell_type": "markdown",
   "metadata": {},
   "source": [
    "二分查找针对的是一个有序的数据集合，查找思想有点类似分治思想。每次都通过跟区间的中间元素对比，将待查找的区间缩小为之前的一半，直到找到要查找的元素，或者区间被缩小为 0。  \n",
    "时间复杂度：O(logn)"
   ]
  },
  {
   "cell_type": "code",
   "execution_count": 1,
   "metadata": {},
   "outputs": [],
   "source": [
    "# 二分查找非递归\n",
    "def binary_search(arr, target):\n",
    "    low = 0\n",
    "    high = len(arr) - 1\n",
    "    while low <= high:\n",
    "        mid = (low + high) // 2\n",
    "        if arr[mid] == target:\n",
    "            return mid\n",
    "        elif arr[mid] < target:\n",
    "            low = mid + 1\n",
    "        else:\n",
    "            high = mid - 1\n",
    "    return \"Not Found\""
   ]
  },
  {
   "cell_type": "code",
   "execution_count": 4,
   "metadata": {},
   "outputs": [
    {
     "name": "stdout",
     "output_type": "stream",
     "text": [
      "7\n"
     ]
    }
   ],
   "source": [
    "arr = [1, 3, 5, 7, 9, 11, 13, 15, 17, 19]\n",
    "target = 15\n",
    "print(binary_search(arr, target))"
   ]
  },
  {
   "cell_type": "code",
   "execution_count": 7,
   "metadata": {},
   "outputs": [],
   "source": [
    "# 二分查找递归\n",
    "def binary_search_recursion(arr, target, low, high):\n",
    "    if low > high:\n",
    "        return \"Not Found\"\n",
    "    mid = (low + high) // 2\n",
    "    if arr[mid] == target:\n",
    "        return mid\n",
    "    elif arr[mid] < target:\n",
    "        return binary_search_recursion(arr, target, mid + 1, high)\n",
    "    else:\n",
    "        return binary_search_recursion(arr, target, low, mid - 1)"
   ]
  },
  {
   "cell_type": "code",
   "execution_count": 8,
   "metadata": {},
   "outputs": [
    {
     "name": "stdout",
     "output_type": "stream",
     "text": [
      "7\n"
     ]
    }
   ],
   "source": [
    "arr = [1, 3, 5, 7, 9, 11, 13, 15, 17, 19]\n",
    "target = 15\n",
    "print(binary_search_recursion(arr, target, 0, len(arr) - 1))"
   ]
  },
  {
   "cell_type": "markdown",
   "metadata": {},
   "source": [
    "## 二分查找应用场景的局限性\n",
    "1. 二分查找依赖的是顺序表结构（数组）\n",
    "2. 二分查找针对的是有序数据。\n",
    "3. 数据量太小不适合二分查找。\n",
    "4. 数据量太大也不适合二分查找。（数据需要连续存储）"
   ]
  },
  {
   "cell_type": "markdown",
   "metadata": {},
   "source": []
  },
  {
   "cell_type": "markdown",
   "metadata": {},
   "source": [
    "## 求一个数的平方根，要求精确到小数点后 6 位"
   ]
  },
  {
   "cell_type": "code",
   "execution_count": 41,
   "metadata": {},
   "outputs": [],
   "source": [
    "def square_root(number):\n",
    "    low = 0\n",
    "    higher = number\n",
    "    while low <= higher:\n",
    "        mid = (low + higher) / 2.0\n",
    "        if abs(mid * mid - number)  < 1e-6:\n",
    "            return round(mid, 6)\n",
    "        elif mid * mid < number:\n",
    "            low = mid\n",
    "        else:\n",
    "            higher = mid\n",
    "\n",
    "# 测试函数\n",
    "print(square_root(3.0))"
   ]
  },
  {
   "cell_type": "code",
   "execution_count": 43,
   "metadata": {},
   "outputs": [
    {
     "name": "stdout",
     "output_type": "stream",
     "text": [
      "1.732051\n"
     ]
    }
   ],
   "source": [
    "def square_root(n):\n",
    "    low, high = 0, n\n",
    "    mid = (low + high) / 2.0\n",
    "\n",
    "    while abs(mid**2 - n) > 1e-6:\n",
    "        if mid**2 < n:\n",
    "            low = mid\n",
    "        else:\n",
    "            high = mid\n",
    "        mid = (low + high) / 2.0\n",
    "\n",
    "    return round(mid, 6)\n",
    "\n",
    "# 测试函数\n",
    "print(square_root(3.0))"
   ]
  },
  {
   "cell_type": "markdown",
   "metadata": {},
   "source": [
    "## 注\n",
    "- 二分查找是在数组中查找\n",
    "- 如果在链表中查找，时间复杂度是O(n)"
   ]
  },
  {
   "cell_type": "markdown",
   "metadata": {},
   "source": []
  }
 ],
 "metadata": {
  "kernelspec": {
   "display_name": "llm10",
   "language": "python",
   "name": "python3"
  },
  "language_info": {
   "codemirror_mode": {
    "name": "ipython",
    "version": 3
   },
   "file_extension": ".py",
   "mimetype": "text/x-python",
   "name": "python",
   "nbconvert_exporter": "python",
   "pygments_lexer": "ipython3",
   "version": "3.10.13"
  }
 },
 "nbformat": 4,
 "nbformat_minor": 2
}
