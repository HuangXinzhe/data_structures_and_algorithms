{
 "cells": [
  {
   "cell_type": "markdown",
   "metadata": {},
   "source": [
    "# 基数排序（Radix sort）\n",
    "基数排序过程（以手机号排序为例）：\n",
    "1. 先按照最后一位来排序手机号码\n",
    "2. 再按照倒数第二位重新排序\n",
    "3. 以此类推，最后按照第一位重新排序。\n",
    "\n",
    "经过 11 次排序之后，手机号码就都有序了。\n",
    "\n"
   ]
  },
  {
   "cell_type": "code",
   "execution_count": 1,
   "metadata": {},
   "outputs": [
    {
     "name": "stdout",
     "output_type": "stream",
     "text": [
      "[12, 14, 27, 31, 43, 55, 58, 69, 96]\n"
     ]
    }
   ],
   "source": [
    "# 基数排序\n",
    "def radix_sort(arr):\n",
    "    max_num = max(arr)  # 找到列表中的最大值，确定要排序的次数\n",
    "    it = 0\n",
    "    while 10 ** it <= max_num:\n",
    "        buckets = [[] for _ in range(10)]  # 创建10个桶，每个桶存放对应位数的数字\n",
    "        for num in arr:\n",
    "            digit = (num // 10 ** it) % 10\n",
    "            buckets[digit].append(num)\n",
    "        arr.clear()\n",
    "        for bucket in buckets:\n",
    "            arr.extend(bucket)  # 将桶中的数字重新放入列表\n",
    "        it += 1  # it为0时，取个位数，it为1时，取十位数，以此类推\n",
    "    return arr  # 循环结束之后，列表已经有序\n",
    "\n",
    "arr = [31, 14, 43, 12, 58, 96, 27, 69, 55]\n",
    "print(radix_sort(arr))    "
   ]
  }
 ],
 "metadata": {
  "kernelspec": {
   "display_name": "llm10",
   "language": "python",
   "name": "python3"
  },
  "language_info": {
   "codemirror_mode": {
    "name": "ipython",
    "version": 3
   },
   "file_extension": ".py",
   "mimetype": "text/x-python",
   "name": "python",
   "nbconvert_exporter": "python",
   "pygments_lexer": "ipython3",
   "version": "3.10.13"
  }
 },
 "nbformat": 4,
 "nbformat_minor": 2
}
