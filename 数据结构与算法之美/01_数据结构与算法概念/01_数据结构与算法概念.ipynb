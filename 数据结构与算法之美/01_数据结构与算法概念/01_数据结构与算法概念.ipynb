{
 "cells": [
  {
   "cell_type": "markdown",
   "metadata": {},
   "source": [
    "## 数据结构与算法\n",
    "从广义上讲：\n",
    "- 数据结构就是指一组数据的存储结构。\n",
    "- 算法就是操作数据的一组方法。\n",
    "\n",
    "从狭义上讲：\n",
    "经典数据结构和算法，都是前人从很多实际操作场景中抽象出来的，经过非常多的求证和检验，可以高效地帮助我们解决很多实际的开发问题。"
   ]
  },
  {
   "cell_type": "markdown",
   "metadata": {},
   "source": [
    "### 数据结构与算法的关系\n",
    "- 数据结构是为算法服务的\n",
    "- 算法要作用在特定的数据结构之上。"
   ]
  }
 ],
 "metadata": {
  "language_info": {
   "name": "python"
  }
 },
 "nbformat": 4,
 "nbformat_minor": 2
}
