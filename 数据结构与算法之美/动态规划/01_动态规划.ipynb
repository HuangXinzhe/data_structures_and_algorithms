{
 "cells": [
  {
   "cell_type": "markdown",
   "metadata": {},
   "source": [
    "# 动态规划\n",
    "动态规划比较适合用来求解最优问题，比如求最大值、最小值等等  \n",
    "\n",
    "- 最优子结构\n",
    "- 边界\n",
    "- 状态转移方程"
   ]
  },
  {
   "cell_type": "code",
   "execution_count": null,
   "metadata": {},
   "outputs": [],
   "source": [
    "# 0-1背包问题\n",
    "def knapsack(w, v, c):\n",
    "    n = len(w)\n",
    "    dp = [[0 for _ in range(c+1)] for _ in range(n+1)]\n",
    "    for i in range(1, n+1):\n",
    "        for j in range(1, c+1):\n",
    "            if j < w[i-1]:\n",
    "                dp[i][j] = dp[i-1][j]\n",
    "            else:\n",
    "                dp[i][j] = max(dp[i-1][j], dp[i-1][j-w[i-1]]+v[i-1])\n",
    "    return dp[n][c]"
   ]
  }
 ],
 "metadata": {
  "language_info": {
   "name": "python"
  }
 },
 "nbformat": 4,
 "nbformat_minor": 2
}
